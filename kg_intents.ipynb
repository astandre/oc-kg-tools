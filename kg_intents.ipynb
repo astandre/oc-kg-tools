{
 "cells": [
  {
   "cell_type": "markdown",
   "source": [
    "# Setting up Model"
   ],
   "metadata": {
    "collapsed": false,
    "pycharm": {
     "name": "#%% md\n"
    }
   }
  },
  {
   "cell_type": "code",
   "execution_count": 11,
   "outputs": [
    {
     "name": "stdout",
     "text": [
      "Clases cargadas\n"
     ],
     "output_type": "stream"
    }
   ],
   "source": [
    "class Intent:\n",
    "    name = \"\"\n",
    "    keywords = []\n",
    "    sentence = []\n",
    "    answer = None\n",
    "    entity = None\n",
    "\n",
    "class Answer:\n",
    "    uri = \"\"\n",
    "    answer_template = None\n",
    "    answer_property = \"\"\n",
    "    refers_to = None\n",
    "    \n",
    "    def __str__(self):\n",
    "        return f\"{self.uri}\"\n",
    "\n",
    "print(\"Clases cargadas\")"
   ],
   "metadata": {
    "collapsed": false,
    "pycharm": {
     "name": "#%%\n",
     "is_executing": false
    }
   }
  },
  {
   "cell_type": "markdown",
   "source": [
    "# Loading data into clases"
   ],
   "metadata": {
    "collapsed": false,
    "pycharm": {
     "name": "#%% md\n"
    }
   }
  },
  {
   "cell_type": "code",
   "execution_count": 15,
   "metadata": {
    "collapsed": true,
    "pycharm": {
     "is_executing": false
    }
   },
   "outputs": [
    {
     "name": "stdout",
     "text": [
      "ObtenerInformacion\n[ObtenerInformacionAnswer]\n(http://127.0.0.1/ockb/ontology/Course)\n>>>> De que trata el mooc?\n>>>> Quiero informacion del curso de emprendimiento\n>>>> Muestrame un resumen del mooc?\n>>>> Breve introducción al curso\n>>>> que es emprendimiento\n>>>> De que se trata el curso?\n>>>> De qué va el curso?\n>>>> Me ayudas con información acerca del curso?\n>>>>+++ trata\n>>>>+++ informacion\n>>>>+++ información\n>>>>+++ resumen\n>>>>+++ introducción\n>>>>+++ dar\nObtenerFechas\n[ObtenerFechasAnswer]\n(http://127.0.0.1/ockb/ontology/Course)\n>>>> Cuáles son las fechas importantes del curso?\n>>>> Fechas clave del curso\n>>>> Que fechas debo tomar en cuenta\n>>>> fechas de inicio y fin\n>>>> Cuándo comienza el curso?\n>>>> Fechas importantes del curso de inteligencia artificial\n>>>> Cuáles son las fechas importantes del curso de emprendimiento\n>>>>+++ importantes\n>>>>+++ clave\n>>>>+++ fecha\nObtenerFechasInicio\n[ObtenerFechasInicioAnswer]\n(http://127.0.0.1/ockb/ontology/Course)\n>>>> Cuándo inicia el curso de emprendimiento\n>>>> Cuándo empiezan los cursos ?\n>>>> Fecha de inicio de los moocs?\n>>>> Día de inicio de los moocs ?\n>>>> En que fecha inician los moocs?\n>>>> A partir de que fecha empiezan los mooc?\n>>>>+++ inicia\n>>>>+++ empezar\n>>>>+++ empieza\n>>>>+++ comienza\n>>>>+++ inicio\n>>>>+++ fecha\nObtenerPrerequisitos\n[ObtenerPrerequisitosAnswer]\n(http://127.0.0.1/ockb/ontology/Course)\n>>>> Cuáles son los requisitos necesarios para el curso de emprendimiento\n>>>> Cuáles son los prerequisitos?\n>>>> Requisitos previos de ingreso  al curso\n>>>> Dame a conocer los prerequisitos\n>>>> Me puedes indicar los prerequistos necesarios?\n>>>> Que necesito saber antes de iniciar el curso\n>>>> que se necesita saber para este curso\n>>>> Los pre requisitos  cuales son?\n>>>> Qué se necesita?\n>>>> Qué debería saber para tomar el curso?\n>>>> Qué conocimientos previos debo tener?\n>>>> Qué tengo que saber?\n>>>> Requisitos previos\n>>>> Conocimientos previos\n>>>>+++ requisito\n>>>>+++ prerequisito\n>>>>+++ pre-requisito\n>>>>+++ previos\n>>>>+++ necesario\n>>>>+++ necesito\n>>>>+++ necesita\n>>>>+++ antes\n>>>>+++ saber\nObtenerDuracion\n[ObtenerDuracionAnswer]\n(http://127.0.0.1/ockb/ontology/Course)\n>>>> Cuanto dura el curso de empendimiento\n>>>> Duración del curso\n>>>> Número de horas del mooc?\n>>>> En cuántas semanas se realiza el curso?\n>>>> Cuanto dura el curso\n>>>> Tiempo que dura un curso?\n>>>> cuanto puede durar un curso mooc\n>>>> cuanto dura el curso?\n>>>> cual es la duracion de psicologia social?\n>>>> Cuánto tiempo dura el mooc?\n>>>> De cuántas semanas es el mooc?\n>>>> Cuántas horas dura el mooc?\n>>>> Cuánto tiempo dura el mooc?\n>>>> De cuántas semanas es el mooc?\n>>>>+++ dura\n>>>>+++ hora\n>>>>+++ horas\n>>>>+++ semana\n>>>>+++ semanas\n>>>>+++ tiempo\n>>>>+++ dura\n>>>>+++ duracion\nObtenerPrecio\n[ObtenerPrecioAnswer]\n(http://127.0.0.1/ockb/ontology/Course)\n>>>> Cual es el precio del curso de emprendimiento\n>>>> Cuál es el precio?\n>>>> Cuánto vale?\n>>>> Valor del curso?\n>>>> Costo\n>>>> Inversión total del curso\n>>>> cual es el valor de los componentes?\n>>>> costo de los cursos?\n>>>> cuanto cuesta los cursos\n>>>> Cuál es precio del curso?\n>>>> Cuánto cuesta el mooc de Administración Empresarial?\n>>>> tiene algun valor los cursos?\n>>>> Cuanto cuesta el  curso Método Toyota?\n>>>> Cuanto cuesta un curso?\n>>>> Que vale el curso ?\n>>>> Es gratis?\n>>>> Cuanto vale el mooc?\n>>>> Precio\n>>>>+++ precio\n>>>>+++ valor\n>>>>+++ costo\n>>>>+++ inversión\n>>>>+++ cuesta\n>>>>+++ cuestan\n>>>>+++ vale\n>>>>+++ gratis\nObtenerDocente\n[ObtenerDocenteAnswer]\n(http://127.0.0.1/ockb/ontology/Teacher)\n>>>> Cual es el docente del curso de emprendimiento\n>>>> Quién es mi profesor en el curso?\n>>>> Docente del mooc?\n>>>> Qué docente imparte el mooc?\n>>>> Quién es el docente encargado de la materia?\n>>>> Nombre del docente del mooc\n>>>> Que profesor esta a cargo del curso\n>>>> cual es mi docente del mooc\n>>>> información del docente\n>>>> Quién es el docente encargado?\n>>>> Quién va a dar el MOOC\n>>>> Que docente acompaña  al estudiante?\n>>>> Cual es el profe de Salud Sexual y Reproductiva\n>>>>+++ docente\n>>>>+++ profesor\n>>>>+++ tutor\n>>>>+++ profe\nObtenerContenidos\n[ObtenerContenidosAnswer]\n(http://127.0.0.1/ockb/ontology/Content)\n>>>> Cuáles son los contenidos a tratar en el curos de emprendimiento\n>>>> Contenido del curso\n>>>> Cuál es la temática de cada curso?\n>>>> Qué temas se van a tratar en cada curso?\n>>>> De que se tratan los moocs\n>>>> Cuáles son las temas del curso?\n>>>> Que se va a tratar en este curso?\n>>>> Qué se va a dar en el curso?\n>>>>+++ contenido\n>>>>+++ temática\n>>>>+++ temas\n>>>>+++ tema\n>>>>+++ tratar\n>>>>+++ dar\n>>>>+++ tratan\nlistarCursos\n[listarCursosAnswer]\n(http://127.0.0.1/ockb/ontology/CourseOffer)\n>>>> Que cursos hay\n>>>> Muestrame los cursos\n>>>> Cual es la oferta actual\n>>>> Cuentame que cursos tienes\n>>>> Que cursos me ofreces\n>>>> Que cursos estan disponibles\n",
      ">>>> Listame los cursos\n>>>> Que cursos tiene\n>>>>+++ cursos\n>>>>+++ muestrame\n>>>>+++ oferta\n>>>>+++ listar\n>>>>+++ listame\n"
     ],
     "output_type": "stream"
    }
   ],
   "source": [
    "from rdflib import Graph, URIRef\n",
    "from rdflib.namespace import RDF, FOAF\n",
    "from rdflib import Namespace, Literal\n",
    "import csv\n",
    "\n",
    "\n",
    "\n",
    "intents_name = []\n",
    "\n",
    "sentences = []\n",
    "\n",
    "with open(\"data/intents_raw.csv\", \"r\", encoding=\"utf-8\") as f:\n",
    "    csv_reader = csv.reader(f, delimiter=\",\")\n",
    "    for row in csv_reader:\n",
    "        # print(row)\n",
    "        if row[0] not in intents_name:\n",
    "            intents_name.append(row[0])  \n",
    "            \n",
    "        sentences.append([row[0],row[1]])\n",
    "    f.close()\n",
    "\n",
    "entities = []\n",
    "\n",
    "\n",
    "with open(\"data/intents.csv\", \"r\", encoding=\"utf-8\") as f:\n",
    "    csv_reader = csv.reader(f, delimiter=\",\")\n",
    "    for row in csv_reader:\n",
    "        entities.append([row[0], row[1]])\n",
    "    f.close()\n",
    "\n",
    "\n",
    "labels = []\n",
    "\n",
    "with open(\"data/intents_label.csv\", \"r\", encoding=\"utf-8\") as f:\n",
    "    csv_reader = csv.reader(f, delimiter=\",\")\n",
    "    for row in csv_reader:\n",
    "        # print(row)\n",
    "        labels.append([row[0], row[1]])\n",
    "    f.close()\n",
    "\n",
    "answers = []\n",
    "with open(\"data/intents_answer.csv\", \"r\", encoding=\"utf-8\") as f:\n",
    "    csv_reader = csv.reader(f, delimiter=\",\")\n",
    "    for row in csv_reader:\n",
    "        # print(row)\n",
    "        aux_answer =  Answer()\n",
    "        aux_answer.uri = row[0]+\"Answer\"\n",
    "        \n",
    "        if len(row[1]) >0:\n",
    "            aux_answer.answer_template = row[1]\n",
    "        elif len(row[3]) >0:\n",
    "            aux_answer.refers_to = row[3]\n",
    "        \n",
    "        aux_answer.answer_property = row[3]\n",
    "\n",
    "        answers.append([row[0], aux_answer])\n",
    "    f.close()\n",
    "\n",
    "\n",
    "intents = []\n",
    "   \n",
    "for name in intents_name:\n",
    "    aux_intent = Intent()\n",
    "    aux_intent.name = name\n",
    "    aux_sentences = []\n",
    "    aux_keywords = []\n",
    "    for sentence in sentences:\n",
    "        if name == sentence[0]:\n",
    "            aux_sentences.append(sentence[1])\n",
    "    for label in labels:\n",
    "         if name == label[0]:\n",
    "            aux_keywords.append(label[1])\n",
    "            \n",
    "    for entity in entities:\n",
    "        if name == entity[0]:\n",
    "            aux_intent.entity = entity[1]\n",
    "            \n",
    "    for answer in answers:\n",
    "         if name ==answer[0]:\n",
    "            aux_intent.answer = answer[1]\n",
    "    \n",
    "    \n",
    "    aux_intent.sentence = aux_sentences\n",
    "    aux_intent.keywords = aux_keywords\n",
    "    \n",
    "    intents.append(aux_intent)\n",
    "\n",
    "\n",
    "for intent in intents:\n",
    "    print(intent.name)\n",
    "    print(f\"[{intent.answer}]\")\n",
    "    print(f\"({intent.entity})\")\n",
    "    for sentence in intent.sentence:\n",
    "        print(\">>>>\", sentence)\n",
    "    for keyword in intent.keywords:\n",
    "        print(\">>>>+++\", keyword)\n"
   ]
  },
  {
   "cell_type": "code",
   "execution_count": 17,
   "outputs": [
    {
     "name": "stdout",
     "text": [
      "http://127.0.0.1/ockb/resources/ObtenerInformacion\n[http://127.0.0.1/ockb/resources/ObtenerInformacionAnswer]\n>>>> De que trata el mooc?\n>>>> Quiero informacion del curso de emprendimiento\n>>>> Muestrame un resumen del mooc?\n>>>> Breve introducción al curso\n>>>> que es emprendimiento\n>>>> De que se trata el curso?\n>>>> De qué va el curso?\n>>>> Me ayudas con información acerca del curso?\n>>>>+++ trata\n>>>>+++ informacion\n>>>>+++ información\n>>>>+++ resumen\n>>>>+++ introducción\n>>>>+++ dar\nhttp://127.0.0.1/ockb/resources/ObtenerFechas\n[http://127.0.0.1/ockb/resources/ObtenerFechasAnswer]\n>>>> Cuáles son las fechas importantes del curso?\n>>>> Fechas clave del curso\n>>>> Que fechas debo tomar en cuenta\n>>>> fechas de inicio y fin\n>>>> Cuándo comienza el curso?\n>>>> Fechas importantes del curso de inteligencia artificial\n>>>> Cuáles son las fechas importantes del curso de emprendimiento\n>>>>+++ importantes\n>>>>+++ clave\n>>>>+++ fecha\nhttp://127.0.0.1/ockb/resources/ObtenerFechasInicio\n[http://127.0.0.1/ockb/resources/ObtenerFechasInicioAnswer]\n>>>> Cuándo inicia el curso de emprendimiento\n>>>> Cuándo empiezan los cursos ?\n>>>> Fecha de inicio de los moocs?\n>>>> Día de inicio de los moocs ?\n>>>> En que fecha inician los moocs?\n>>>> A partir de que fecha empiezan los mooc?\n>>>>+++ inicia\n>>>>+++ empezar\n>>>>+++ empieza\n>>>>+++ comienza\n>>>>+++ inicio\n>>>>+++ fecha\nhttp://127.0.0.1/ockb/resources/ObtenerPrerequisitos\n[http://127.0.0.1/ockb/resources/ObtenerPrerequisitosAnswer]\n>>>> Cuáles son los requisitos necesarios para el curso de emprendimiento\n>>>> Cuáles son los prerequisitos?\n>>>> Requisitos previos de ingreso  al curso\n>>>> Dame a conocer los prerequisitos\n>>>> Me puedes indicar los prerequistos necesarios?\n>>>> Que necesito saber antes de iniciar el curso\n>>>> que se necesita saber para este curso\n>>>> Los pre requisitos  cuales son?\n>>>> Qué se necesita?\n>>>> Qué debería saber para tomar el curso?\n>>>> Qué conocimientos previos debo tener?\n>>>> Qué tengo que saber?\n>>>> Requisitos previos\n>>>> Conocimientos previos\n>>>>+++ requisito\n>>>>+++ prerequisito\n>>>>+++ pre-requisito\n>>>>+++ previos\n>>>>+++ necesario\n>>>>+++ necesito\n>>>>+++ necesita\n>>>>+++ antes\n>>>>+++ saber\nhttp://127.0.0.1/ockb/resources/ObtenerDuracion\n[http://127.0.0.1/ockb/resources/ObtenerDuracionAnswer]\n>>>> Cuanto dura el curso de empendimiento\n>>>> Duración del curso\n>>>> Número de horas del mooc?\n>>>> En cuántas semanas se realiza el curso?\n>>>> Cuanto dura el curso\n>>>> Tiempo que dura un curso?\n>>>> cuanto puede durar un curso mooc\n>>>> cuanto dura el curso?\n>>>> cual es la duracion de psicologia social?\n>>>> Cuánto tiempo dura el mooc?\n>>>> De cuántas semanas es el mooc?\n>>>> Cuántas horas dura el mooc?\n>>>> Cuánto tiempo dura el mooc?\n>>>> De cuántas semanas es el mooc?\n>>>>+++ dura\n>>>>+++ hora\n>>>>+++ horas\n>>>>+++ semana\n>>>>+++ semanas\n>>>>+++ tiempo\n>>>>+++ dura\n>>>>+++ duracion\nhttp://127.0.0.1/ockb/resources/ObtenerPrecio\n[http://127.0.0.1/ockb/resources/ObtenerPrecioAnswer]\n>>>> Cual es el precio del curso de emprendimiento\n>>>> Cuál es el precio?\n>>>> Cuánto vale?\n>>>> Valor del curso?\n>>>> Costo\n>>>> Inversión total del curso\n>>>> cual es el valor de los componentes?\n>>>> costo de los cursos?\n>>>> cuanto cuesta los cursos\n>>>> Cuál es precio del curso?\n>>>> Cuánto cuesta el mooc de Administración Empresarial?\n>>>> tiene algun valor los cursos?\n>>>> Cuanto cuesta el  curso Método Toyota?\n>>>> Cuanto cuesta un curso?\n>>>> Que vale el curso ?\n>>>> Es gratis?\n>>>> Cuanto vale el mooc?\n>>>> Precio\n>>>>+++ precio\n>>>>+++ valor\n>>>>+++ costo\n>>>>+++ inversión\n>>>>+++ cuesta\n>>>>+++ cuestan\n>>>>+++ vale\n>>>>+++ gratis\nhttp://127.0.0.1/ockb/resources/ObtenerDocente\n[http://127.0.0.1/ockb/resources/ObtenerDocenteAnswer]\n>>>> Cual es el docente del curso de emprendimiento\n>>>> Quién es mi profesor en el curso?\n>>>> Docente del mooc?\n>>>> Qué docente imparte el mooc?\n>>>> Quién es el docente encargado de la materia?\n>>>> Nombre del docente del mooc\n>>>> Que profesor esta a cargo del curso\n>>>> cual es mi docente del mooc\n>>>> información del docente\n>>>> Quién es el docente encargado?\n>>>> Quién va a dar el MOOC\n>>>> Que docente acompaña  al estudiante?\n>>>> Cual es el profe de Salud Sexual y Reproductiva\n>>>>+++ docente\n>>>>+++ profesor\n>>>>+++ tutor\n>>>>+++ profe\nhttp://127.0.0.1/ockb/resources/ObtenerContenidos\n[http://127.0.0.1/ockb/resources/ObtenerContenidosAnswer]\n>>>> Cuáles son los contenidos a tratar en el curos de emprendimiento\n>>>> Contenido del curso\n>>>> Cuál es la temática de cada curso?\n>>>> Qué temas se van a tratar en cada curso?\n>>>> De que se tratan los moocs\n>>>> Cuáles son las temas del curso?\n>>>> Que se va a tratar en este curso?\n>>>> Qué se va a dar en el curso?\n>>>>+++ contenido\n>>>>+++ temática\n>>>>+++ temas\n>>>>+++ tema\n>>>>+++ tratar\n>>>>+++ dar\n>>>>+++ tratan\nhttp://127.0.0.1/ockb/resources/listarCursos\n[http://127.0.0.1/ockb/resources/listarCursosAnswer]\n>>>> Que cursos hay\n>>>> Muestrame los cursos\n>>>> Cual es la oferta actual\n>>>> Cuentame que cursos tienes\n",
      ">>>> Que cursos me ofreces\n>>>> Que cursos estan disponibles\n>>>> Listame los cursos\n>>>> Que cursos tiene\n>>>>+++ cursos\n>>>>+++ muestrame\n>>>>+++ oferta\n>>>>+++ listar\n>>>>+++ listame\nse ha finalizado\n"
     ],
     "output_type": "stream"
    }
   ],
   "source": [
    "\n",
    "RESOURCE_BASE_URI = \"http://127.0.0.1/ockb/resources/\"\n",
    "ockb = Namespace(\"http://127.0.0.1/ockb/ontology/\")\n",
    "g = Graph()\n",
    "\n",
    "\n",
    "for intent in intents:\n",
    "    intent_uri = URIRef(RESOURCE_BASE_URI+intent.name)\n",
    "    print(intent_uri)\n",
    "    g.add((intent_uri, RDF.type, ockb.Intent))\n",
    "    g.add((intent_uri, ockb.intentName,Literal(intent.name)))\n",
    "    \n",
    "    answer_uri = URIRef(RESOURCE_BASE_URI+intent.answer.uri)\n",
    "    print(f\"[{answer_uri}]\")\n",
    "    g.add((intent_uri, ockb.hasAnswer,answer_uri))\n",
    "    g.add((answer_uri, RDF.type,ockb.Answer))\n",
    "    g.add((answer_uri, ockb.answerTemplate,Literal(intent.answer.answer_template)))\n",
    "    g.add((answer_uri, ockb.answerProperty,URIRef(intent.answer.answer_property)))\n",
    "    if intent.answer.refers_to is not None:\n",
    "        g.add((answer_uri, ockb.refersTo,URIRef(intent.answer.refers_to)))\n",
    "    \n",
    "    if intent.entity is not None:\n",
    "        g.add((intent_uri, ockb.requiresEntity,URIRef(intent.entity)))\n",
    "    \n",
    "    for sentence in intent.sentence:\n",
    "        print(\">>>>\", sentence)\n",
    "        g.add((intent_uri, ockb.trainingSentence,Literal(sentence)))\n",
    "    for keyword in intent.keywords:\n",
    "        print(\">>>>+++\", keyword)\n",
    "        g.add((intent_uri, ockb.intentLabel,Literal(keyword)))\n",
    "    \n",
    "g.serialize(destination='intents.rdf')\n",
    "\n",
    "# TODO add data types\n",
    "\n",
    "\n",
    "\n",
    "# from rdflib import Literal,XSD\n",
    "# Literal(\"01\", datatype=XSD.int)\n",
    "\n",
    "print(\"se ha finalizado\")\n",
    "    "
   ],
   "metadata": {
    "collapsed": false,
    "pycharm": {
     "name": "#%%\n",
     "is_executing": false
    }
   }
  }
 ],
 "metadata": {
  "kernelspec": {
   "display_name": "Python 3",
   "language": "python",
   "name": "python3"
  },
  "language_info": {
   "codemirror_mode": {
    "name": "ipython",
    "version": 2
   },
   "file_extension": ".py",
   "mimetype": "text/x-python",
   "name": "python",
   "nbconvert_exporter": "python",
   "pygments_lexer": "ipython2",
   "version": "2.7.6"
  },
  "pycharm": {
   "stem_cell": {
    "cell_type": "raw",
    "source": [],
    "metadata": {
     "collapsed": false
    }
   }
  }
 },
 "nbformat": 4,
 "nbformat_minor": 0
}